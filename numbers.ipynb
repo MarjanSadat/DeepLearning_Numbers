{
 "cells": [
  {
   "cell_type": "code",
   "execution_count": 3,
   "id": "3e53ca5a-111e-4e62-9d23-c81fd8e19630",
   "metadata": {},
   "outputs": [],
   "source": [
    "import warnings\n",
    "warnings.filterwarnings(action='ignore')"
   ]
  },
  {
   "cell_type": "code",
   "execution_count": 4,
   "id": "013ff754-a19a-4d5e-9c73-514cb1e82e92",
   "metadata": {},
   "outputs": [],
   "source": [
    "import tensorflow as tf\n",
    "import numpy as np\n",
    "import matplotlib.pyplot as plt\n",
    "from tensorflow import keras"
   ]
  },
  {
   "cell_type": "code",
   "execution_count": 5,
   "id": "2649df93-db2f-4880-9c45-bd915535d015",
   "metadata": {},
   "outputs": [],
   "source": [
    "mnist = keras.datasets.mnist"
   ]
  },
  {
   "cell_type": "code",
   "execution_count": 6,
   "id": "e1ed94e8-5730-4618-b168-ab468cd7b66e",
   "metadata": {},
   "outputs": [],
   "source": [
    "(x_train, y_train),(x_test, y_test) = mnist.load_data()"
   ]
  },
  {
   "cell_type": "code",
   "execution_count": 8,
   "id": "0fa59117-c68e-423e-8509-346ab03d51f1",
   "metadata": {},
   "outputs": [
    {
     "data": {
      "text/plain": [
       "((60000, 28, 28), (10000, 28, 28))"
      ]
     },
     "execution_count": 8,
     "metadata": {},
     "output_type": "execute_result"
    }
   ],
   "source": [
    "x_train.shape, x_test.shape"
   ]
  },
  {
   "cell_type": "code",
   "execution_count": 10,
   "id": "fc1f48d0-2fff-4420-8b66-a039d87d80ab",
   "metadata": {},
   "outputs": [
    {
     "data": {
      "image/png": "[encoded data removed]",
      "text/plain": [
       "<Figure size 480x480 with 1 Axes>"
      ]
     },
     "metadata": {},
     "output_type": "display_data"
    }
   ],
   "source": [
    "img = x_train[0]\n",
    "plt.matshow(img)\n",
    "plt.gray()"
   ]
  },
  {
   "cell_type": "code",
   "execution_count": 11,
   "id": "bbf5a8c8-9b20-40e9-8f3e-cd56a89e379a",
   "metadata": {},
   "outputs": [
    {
     "data": {
      "text/plain": [
       "(0, 255)"
      ]
     },
     "execution_count": 11,
     "metadata": {},
     "output_type": "execute_result"
    }
   ],
   "source": [
    "np.min(img), np.max(img)"
   ]
  },
  {
   "cell_type": "code",
   "execution_count": 12,
   "id": "b000e673-5aae-493b-b6d1-98efc0e6e3fa",
   "metadata": {},
   "outputs": [],
   "source": [
    "x_train = x_train/255.0\n",
    "x_test = x_test/255.0"
   ]
  },
  {
   "cell_type": "code",
   "execution_count": 14,
   "id": "0335b082-f984-44c5-a1b3-f879b9cbda80",
   "metadata": {},
   "outputs": [],
   "source": [
    "model = keras.Sequential()\n",
    "model.add(keras.layers.Flatten())\n",
    "model.add(keras.layers.Dense(128, activation='relu'))\n",
    "model.add(keras.layers.Dense(128, activation='relu'))\n",
    "model.add(keras.layers.Dense(10, activation='softmax'))"
   ]
  },
  {
   "cell_type": "code",
   "execution_count": 16,
   "id": "ba5d1fdb-d2f3-4731-919b-f612a6c2c4c3",
   "metadata": {},
   "outputs": [],
   "source": [
    "model.compile(optimizer=tf.optimizers.Adam(), loss=tf.losses.sparse_categorical_crossentropy, \n",
    "              metrics=['accuracy'])"
   ]
  },
  {
   "cell_type": "code",
   "execution_count": 18,
   "id": "9a0cd38b-a516-4484-b285-5c23af006cc7",
   "metadata": {},
   "outputs": [],
   "source": [
    "model.build(input_shape=(None, 28, 28))"
   ]
  },
  {
   "cell_type": "code",
   "execution_count": 19,
   "id": "da1497d8-c48e-4049-bb27-a3ffef59a9b5",
   "metadata": {},
   "outputs": [
    {
     "name": "stdout",
     "output_type": "stream",
     "text": [
      "Model: \"sequential\"\n",
      "_________________________________________________________________\n",
      " Layer (type)                Output Shape              Param #   \n",
      "=================================================================\n",
      " flatten (Flatten)           (None, 784)               0         \n",
      "                                                                 \n",
      " dense (Dense)               (None, 128)               100480    \n",
      "                                                                 \n",
      " dense_1 (Dense)             (None, 128)               16512     \n",
      "                                                                 \n",
      " dense_2 (Dense)             (None, 10)                1290      \n",
      "                                                                 \n",
      "=================================================================\n",
      "Total params: 118282 (462.04 KB)\n",
      "Trainable params: 118282 (462.04 KB)\n",
      "Non-trainable params: 0 (0.00 Byte)\n",
      "_________________________________________________________________\n"
     ]
    }
   ],
   "source": [
    "model.summary()"
   ]
  },
  {
   "cell_type": "code",
   "execution_count": 21,
   "id": "9d89de8b-5b6d-4f78-8286-9c231e9024fe",
   "metadata": {},
   "outputs": [
    {
     "name": "stderr",
     "output_type": "stream",
     "text": [
      "2024-05-28 21:55:04.782509: W tensorflow/tsl/framework/cpu_allocator_impl.cc:83] Allocation of 188160000 exceeds 10% of free system memory.\n"
     ]
    },
    {
     "name": "stdout",
     "output_type": "stream",
     "text": [
      "Epoch 1/50\n",
      "223/235 [===========================>..] - ETA: 0s - loss: 0.4154 - accuracy: 0.8837"
     ]
    },
    {
     "name": "stderr",
     "output_type": "stream",
     "text": [
      "2024-05-28 21:55:08.232224: W tensorflow/tsl/framework/cpu_allocator_impl.cc:83] Allocation of 31360000 exceeds 10% of free system memory.\n"
     ]
    },
    {
     "name": "stdout",
     "output_type": "stream",
     "text": [
      "235/235 [==============================] - 3s 5ms/step - loss: 0.4051 - accuracy: 0.8867 - val_loss: 0.1967 - val_accuracy: 0.9451\n",
      "Epoch 2/50\n",
      "235/235 [==============================] - 1s 4ms/step - loss: 0.1557 - accuracy: 0.9552 - val_loss: 0.1278 - val_accuracy: 0.9620\n",
      "Epoch 3/50\n",
      "235/235 [==============================] - 1s 4ms/step - loss: 0.1092 - accuracy: 0.9678 - val_loss: 0.1064 - val_accuracy: 0.9675\n",
      "Epoch 4/50\n",
      "235/235 [==============================] - 1s 4ms/step - loss: 0.0819 - accuracy: 0.9757 - val_loss: 0.0882 - val_accuracy: 0.9722\n",
      "Epoch 5/50\n",
      "235/235 [==============================] - 1s 4ms/step - loss: 0.0654 - accuracy: 0.9803 - val_loss: 0.0858 - val_accuracy: 0.9742\n",
      "Epoch 6/50\n",
      "235/235 [==============================] - 1s 4ms/step - loss: 0.0541 - accuracy: 0.9840 - val_loss: 0.0820 - val_accuracy: 0.9742\n",
      "Epoch 7/50\n",
      "235/235 [==============================] - 1s 4ms/step - loss: 0.0439 - accuracy: 0.9871 - val_loss: 0.0780 - val_accuracy: 0.9772\n",
      "Epoch 8/50\n",
      "235/235 [==============================] - 1s 4ms/step - loss: 0.0365 - accuracy: 0.9893 - val_loss: 0.0751 - val_accuracy: 0.9777\n",
      "Epoch 9/50\n",
      "235/235 [==============================] - 1s 4ms/step - loss: 0.0298 - accuracy: 0.9914 - val_loss: 0.0781 - val_accuracy: 0.9771\n",
      "Epoch 10/50\n",
      "235/235 [==============================] - 1s 4ms/step - loss: 0.0253 - accuracy: 0.9933 - val_loss: 0.0766 - val_accuracy: 0.9777\n",
      "Epoch 11/50\n",
      "235/235 [==============================] - 1s 4ms/step - loss: 0.0213 - accuracy: 0.9940 - val_loss: 0.0769 - val_accuracy: 0.9780\n",
      "Epoch 12/50\n",
      "235/235 [==============================] - 1s 4ms/step - loss: 0.0185 - accuracy: 0.9946 - val_loss: 0.0791 - val_accuracy: 0.9776\n",
      "Epoch 13/50\n",
      "235/235 [==============================] - 1s 4ms/step - loss: 0.0136 - accuracy: 0.9966 - val_loss: 0.0760 - val_accuracy: 0.9801\n",
      "Epoch 14/50\n",
      "235/235 [==============================] - 1s 4ms/step - loss: 0.0122 - accuracy: 0.9969 - val_loss: 0.0767 - val_accuracy: 0.9808\n",
      "Epoch 15/50\n",
      "235/235 [==============================] - 1s 4ms/step - loss: 0.0104 - accuracy: 0.9972 - val_loss: 0.0873 - val_accuracy: 0.9780\n",
      "Epoch 16/50\n",
      "235/235 [==============================] - 1s 4ms/step - loss: 0.0087 - accuracy: 0.9976 - val_loss: 0.0804 - val_accuracy: 0.9807\n",
      "Epoch 17/50\n",
      "235/235 [==============================] - 1s 4ms/step - loss: 0.0080 - accuracy: 0.9979 - val_loss: 0.0882 - val_accuracy: 0.9797\n",
      "Epoch 18/50\n",
      "235/235 [==============================] - 1s 4ms/step - loss: 0.0107 - accuracy: 0.9969 - val_loss: 0.0875 - val_accuracy: 0.9781\n",
      "Epoch 19/50\n",
      "235/235 [==============================] - 1s 4ms/step - loss: 0.0080 - accuracy: 0.9977 - val_loss: 0.0929 - val_accuracy: 0.9787\n",
      "Epoch 20/50\n",
      "235/235 [==============================] - 1s 4ms/step - loss: 0.0050 - accuracy: 0.9988 - val_loss: 0.0893 - val_accuracy: 0.9794\n",
      "Epoch 21/50\n",
      "235/235 [==============================] - 1s 4ms/step - loss: 0.0051 - accuracy: 0.9987 - val_loss: 0.0996 - val_accuracy: 0.9780\n",
      "Epoch 22/50\n",
      "235/235 [==============================] - 1s 4ms/step - loss: 0.0057 - accuracy: 0.9982 - val_loss: 0.1013 - val_accuracy: 0.9787\n",
      "Epoch 23/50\n",
      "235/235 [==============================] - 1s 4ms/step - loss: 0.0108 - accuracy: 0.9963 - val_loss: 0.0934 - val_accuracy: 0.9794\n",
      "Epoch 24/50\n",
      "235/235 [==============================] - 1s 4ms/step - loss: 0.0048 - accuracy: 0.9986 - val_loss: 0.0879 - val_accuracy: 0.9802\n",
      "Epoch 25/50\n",
      "235/235 [==============================] - 1s 4ms/step - loss: 0.0026 - accuracy: 0.9994 - val_loss: 0.0947 - val_accuracy: 0.9796\n",
      "Epoch 26/50\n",
      "235/235 [==============================] - 1s 4ms/step - loss: 0.0078 - accuracy: 0.9972 - val_loss: 0.1059 - val_accuracy: 0.9776\n",
      "Epoch 27/50\n",
      "235/235 [==============================] - 1s 4ms/step - loss: 0.0037 - accuracy: 0.9990 - val_loss: 0.1025 - val_accuracy: 0.9777\n",
      "Epoch 28/50\n",
      "235/235 [==============================] - 1s 4ms/step - loss: 0.0045 - accuracy: 0.9987 - val_loss: 0.1044 - val_accuracy: 0.9796\n",
      "Epoch 29/50\n",
      "235/235 [==============================] - 1s 4ms/step - loss: 0.0028 - accuracy: 0.9993 - val_loss: 0.1055 - val_accuracy: 0.9781\n",
      "Epoch 30/50\n",
      "235/235 [==============================] - 1s 4ms/step - loss: 0.0041 - accuracy: 0.9986 - val_loss: 0.1045 - val_accuracy: 0.9795\n",
      "Epoch 31/50\n",
      "235/235 [==============================] - 1s 4ms/step - loss: 0.0073 - accuracy: 0.9977 - val_loss: 0.1227 - val_accuracy: 0.9771\n",
      "Epoch 32/50\n",
      "235/235 [==============================] - 1s 4ms/step - loss: 0.0089 - accuracy: 0.9969 - val_loss: 0.1218 - val_accuracy: 0.9766\n",
      "Epoch 33/50\n",
      "235/235 [==============================] - 1s 4ms/step - loss: 0.0039 - accuracy: 0.9990 - val_loss: 0.1119 - val_accuracy: 0.9792\n",
      "Epoch 34/50\n",
      "235/235 [==============================] - 1s 4ms/step - loss: 8.4901e-04 - accuracy: 0.9998 - val_loss: 0.1051 - val_accuracy: 0.9813\n",
      "Epoch 35/50\n",
      "235/235 [==============================] - 1s 4ms/step - loss: 5.8728e-04 - accuracy: 0.9999 - val_loss: 0.1106 - val_accuracy: 0.9803\n",
      "Epoch 36/50\n",
      "235/235 [==============================] - 1s 4ms/step - loss: 0.0014 - accuracy: 0.9996 - val_loss: 0.1195 - val_accuracy: 0.9784\n",
      "Epoch 37/50\n",
      "235/235 [==============================] - 1s 4ms/step - loss: 0.0089 - accuracy: 0.9973 - val_loss: 0.1226 - val_accuracy: 0.9788\n",
      "Epoch 38/50\n",
      "235/235 [==============================] - 1s 4ms/step - loss: 0.0075 - accuracy: 0.9974 - val_loss: 0.1080 - val_accuracy: 0.9813\n",
      "Epoch 39/50\n",
      "235/235 [==============================] - 1s 4ms/step - loss: 0.0069 - accuracy: 0.9976 - val_loss: 0.1200 - val_accuracy: 0.9776\n",
      "Epoch 40/50\n",
      "235/235 [==============================] - 1s 4ms/step - loss: 0.0017 - accuracy: 0.9995 - val_loss: 0.1054 - val_accuracy: 0.9823\n",
      "Epoch 41/50\n",
      "235/235 [==============================] - 1s 4ms/step - loss: 2.0335e-04 - accuracy: 1.0000 - val_loss: 0.1066 - val_accuracy: 0.9821\n",
      "Epoch 42/50\n",
      "235/235 [==============================] - 1s 4ms/step - loss: 1.2397e-04 - accuracy: 1.0000 - val_loss: 0.1078 - val_accuracy: 0.9819\n",
      "Epoch 43/50\n",
      "235/235 [==============================] - 1s 4ms/step - loss: 9.3455e-05 - accuracy: 1.0000 - val_loss: 0.1083 - val_accuracy: 0.9815\n",
      "Epoch 44/50\n",
      "235/235 [==============================] - 1s 4ms/step - loss: 7.9800e-05 - accuracy: 1.0000 - val_loss: 0.1093 - val_accuracy: 0.9816\n",
      "Epoch 45/50\n",
      "235/235 [==============================] - 1s 4ms/step - loss: 6.9823e-05 - accuracy: 1.0000 - val_loss: 0.1102 - val_accuracy: 0.9816\n",
      "Epoch 46/50\n",
      "235/235 [==============================] - 1s 4ms/step - loss: 6.1542e-05 - accuracy: 1.0000 - val_loss: 0.1113 - val_accuracy: 0.9817\n",
      "Epoch 47/50\n",
      "235/235 [==============================] - 1s 4ms/step - loss: 5.4913e-05 - accuracy: 1.0000 - val_loss: 0.1127 - val_accuracy: 0.9816\n",
      "Epoch 48/50\n",
      "235/235 [==============================] - 1s 4ms/step - loss: 4.9360e-05 - accuracy: 1.0000 - val_loss: 0.1141 - val_accuracy: 0.9820\n",
      "Epoch 49/50\n",
      "235/235 [==============================] - 1s 4ms/step - loss: 4.4279e-05 - accuracy: 1.0000 - val_loss: 0.1145 - val_accuracy: 0.9822\n",
      "Epoch 50/50\n",
      "235/235 [==============================] - 1s 4ms/step - loss: 4.0338e-05 - accuracy: 1.0000 - val_loss: 0.1156 - val_accuracy: 0.9823\n"
     ]
    }
   ],
   "source": [
    "hist = model.fit(x_train, y_train, epochs=50, batch_size=256,validation_data=(x_test,y_test))"
   ]
  },
  {
   "cell_type": "code",
   "execution_count": 22,
   "id": "f58fd130-102f-4d51-ab0c-daff4d5e7289",
   "metadata": {},
   "outputs": [
    {
     "name": "stdout",
     "output_type": "stream",
     "text": [
      " 74/313 [======>.......................] - ETA: 0s - loss: 0.1769 - accuracy: 0.9734"
     ]
    },
    {
     "name": "stderr",
     "output_type": "stream",
     "text": [
      "2024-05-28 21:56:34.001294: W tensorflow/tsl/framework/cpu_allocator_impl.cc:83] Allocation of 31360000 exceeds 10% of free system memory.\n"
     ]
    },
    {
     "name": "stdout",
     "output_type": "stream",
     "text": [
      "313/313 [==============================] - 0s 1ms/step - loss: 0.1156 - accuracy: 0.9823\n"
     ]
    },
    {
     "data": {
      "text/plain": [
       "[0.11560583859682083, 0.9822999835014343]"
      ]
     },
     "execution_count": 22,
     "metadata": {},
     "output_type": "execute_result"
    }
   ],
   "source": [
    "model.evaluate(x_test, y_test)"
   ]
  },
  {
   "cell_type": "code",
   "execution_count": 23,
   "id": "8c54d68a-9eaa-4a31-8e29-b9316f415899",
   "metadata": {},
   "outputs": [
    {
     "name": "stdout",
     "output_type": "stream",
     "text": [
      "6\n"
     ]
    }
   ],
   "source": [
    "img = x_test[100]\n",
    "print(y_test[100])"
   ]
  },
  {
   "cell_type": "code",
   "execution_count": 24,
   "id": "46e3946d-e6d4-471e-9e97-d22ca9933ba6",
   "metadata": {},
   "outputs": [
    {
     "data": {
      "image/png": "[encoded data removed]",
      "text/plain": [
       "<Figure size 640x480 with 1 Axes>"
      ]
     },
     "metadata": {},
     "output_type": "display_data"
    }
   ],
   "source": [
    "plt.imshow(img)\n",
    "plt.gray()"
   ]
  },
  {
   "cell_type": "code",
   "execution_count": 26,
   "id": "b2f954e3-ec98-407d-b8b8-998b59058b5d",
   "metadata": {},
   "outputs": [
    {
     "name": "stdout",
     "output_type": "stream",
     "text": [
      "1/1 [==============================] - 0s 62ms/step\n"
     ]
    },
    {
     "data": {
      "text/plain": [
       "array([[1.6252803e-10, 2.9710653e-15, 8.3328967e-14, 6.0827212e-19,\n",
       "        1.9409582e-14, 1.2604415e-12, 1.0000000e+00, 3.2769997e-14,\n",
       "        1.7629053e-15, 1.3759483e-19]], dtype=float32)"
      ]
     },
     "execution_count": 26,
     "metadata": {},
     "output_type": "execute_result"
    }
   ],
   "source": [
    "model.predict(np.reshape(img,(-1, 784)))"
   ]
  },
  {
   "cell_type": "code",
   "execution_count": 27,
   "id": "5a9899a9-e9a7-4a45-b741-040dac12b33c",
   "metadata": {},
   "outputs": [
    {
     "data": {
      "text/plain": [
       "[<matplotlib.lines.Line2D at 0x7fb2e0246910>]"
      ]
     },
     "execution_count": 27,
     "metadata": {},
     "output_type": "execute_result"
    },
    {
     "data": {
      "image/png": "[encoded data removed]",
      "text/plain": [
       "<Figure size 640x480 with 1 Axes>"
      ]
     },
     "metadata": {},
     "output_type": "display_data"
    }
   ],
   "source": [
    "acc = hist.history['accuracy']\n",
    "vall_acc = hist.history['val_accuracy']\n",
    "\n",
    "plt.plot(acc, color='blue')\n",
    "plt.plot(vall_acc, color='red')"
   ]
  },
  {
   "cell_type": "code",
   "execution_count": null,
   "id": "d1c4239c-1338-43f2-80b9-2aad567b1991",
   "metadata": {},
   "outputs": [],
   "source": []
  }
 ],
 "metadata": {
  "kernelspec": {
   "display_name": "Python 3 (ipykernel)",
   "language": "python",
   "name": "python3"
  },
  "language_info": {
   "codemirror_mode": {
    "name": "ipython",
    "version": 3
   },
   "file_extension": ".py",
   "mimetype": "text/x-python",
   "name": "python",
   "nbconvert_exporter": "python",
   "pygments_lexer": "ipython3",
   "version": "3.11.0"
  }
 },
 "nbformat": 4,
 "nbformat_minor": 5
}
